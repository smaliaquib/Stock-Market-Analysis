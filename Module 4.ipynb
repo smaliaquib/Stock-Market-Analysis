{
 "cells": [
  {
   "cell_type": "markdown",
   "metadata": {},
   "source": [
    "<h2>Module 4 - Algo Trading using Classification</h2>"
   ]
  },
  {
   "cell_type": "markdown",
   "metadata": {},
   "source": [
    "<h4>Query 4.1</h4>"
   ]
  },
  {
   "cell_type": "code",
   "execution_count": 1,
   "metadata": {},
   "outputs": [],
   "source": [
    "import pandas as pd\n",
    "import matplotlib.pyplot as plt"
   ]
  },
  {
   "cell_type": "markdown",
   "metadata": {},
   "source": [
    "<h4>Query 4.1a Create new column \"Call\"</h4>"
   ]
  },
  {
   "cell_type": "code",
   "execution_count": 2,
   "metadata": {},
   "outputs": [
    {
     "data": {
      "text/html": [
       "<div>\n",
       "<style scoped>\n",
       "    .dataframe tbody tr th:only-of-type {\n",
       "        vertical-align: middle;\n",
       "    }\n",
       "\n",
       "    .dataframe tbody tr th {\n",
       "        vertical-align: top;\n",
       "    }\n",
       "\n",
       "    .dataframe thead th {\n",
       "        text-align: right;\n",
       "    }\n",
       "</style>\n",
       "<table border=\"1\" class=\"dataframe\">\n",
       "  <thead>\n",
       "    <tr style=\"text-align: right;\">\n",
       "      <th></th>\n",
       "      <th>Series</th>\n",
       "      <th>Prev Close</th>\n",
       "      <th>Open Price</th>\n",
       "      <th>High Price</th>\n",
       "      <th>Low Price</th>\n",
       "      <th>Last Price</th>\n",
       "      <th>Close Price</th>\n",
       "      <th>Average Price</th>\n",
       "      <th>Total Traded Quantity</th>\n",
       "      <th>Turnover</th>\n",
       "      <th>No. of Trades</th>\n",
       "      <th>Deliverable Qty</th>\n",
       "      <th>% Dly Qt to Traded Qty</th>\n",
       "      <th>Month</th>\n",
       "      <th>Year</th>\n",
       "      <th>Day_Perc_Change</th>\n",
       "      <th>Trend</th>\n",
       "    </tr>\n",
       "    <tr>\n",
       "      <th>Date</th>\n",
       "      <th></th>\n",
       "      <th></th>\n",
       "      <th></th>\n",
       "      <th></th>\n",
       "      <th></th>\n",
       "      <th></th>\n",
       "      <th></th>\n",
       "      <th></th>\n",
       "      <th></th>\n",
       "      <th></th>\n",
       "      <th></th>\n",
       "      <th></th>\n",
       "      <th></th>\n",
       "      <th></th>\n",
       "      <th></th>\n",
       "      <th></th>\n",
       "      <th></th>\n",
       "    </tr>\n",
       "  </thead>\n",
       "  <tbody>\n",
       "    <tr>\n",
       "      <th>2017-05-16</th>\n",
       "      <td>EQ</td>\n",
       "      <td>563.90</td>\n",
       "      <td>564.80</td>\n",
       "      <td>567.70</td>\n",
       "      <td>559.0</td>\n",
       "      <td>561.6</td>\n",
       "      <td>562.60</td>\n",
       "      <td>562.26</td>\n",
       "      <td>495571</td>\n",
       "      <td>2.786409e+08</td>\n",
       "      <td>8172</td>\n",
       "      <td>203735</td>\n",
       "      <td>41.11</td>\n",
       "      <td>5</td>\n",
       "      <td>2017</td>\n",
       "      <td>-0.230537</td>\n",
       "      <td>Slight or No change</td>\n",
       "    </tr>\n",
       "    <tr>\n",
       "      <th>2017-05-17</th>\n",
       "      <td>EQ</td>\n",
       "      <td>562.60</td>\n",
       "      <td>563.00</td>\n",
       "      <td>569.90</td>\n",
       "      <td>558.0</td>\n",
       "      <td>564.7</td>\n",
       "      <td>564.25</td>\n",
       "      <td>563.94</td>\n",
       "      <td>831318</td>\n",
       "      <td>4.688176e+08</td>\n",
       "      <td>13860</td>\n",
       "      <td>253851</td>\n",
       "      <td>30.54</td>\n",
       "      <td>5</td>\n",
       "      <td>2017</td>\n",
       "      <td>0.293281</td>\n",
       "      <td>Slight or No change</td>\n",
       "    </tr>\n",
       "    <tr>\n",
       "      <th>2017-05-18</th>\n",
       "      <td>EQ</td>\n",
       "      <td>564.25</td>\n",
       "      <td>559.80</td>\n",
       "      <td>563.00</td>\n",
       "      <td>551.0</td>\n",
       "      <td>553.5</td>\n",
       "      <td>552.15</td>\n",
       "      <td>555.33</td>\n",
       "      <td>1050920</td>\n",
       "      <td>5.836120e+08</td>\n",
       "      <td>27124</td>\n",
       "      <td>615645</td>\n",
       "      <td>58.58</td>\n",
       "      <td>5</td>\n",
       "      <td>2017</td>\n",
       "      <td>-2.144440</td>\n",
       "      <td>Negative</td>\n",
       "    </tr>\n",
       "    <tr>\n",
       "      <th>2017-05-19</th>\n",
       "      <td>EQ</td>\n",
       "      <td>552.15</td>\n",
       "      <td>560.95</td>\n",
       "      <td>567.00</td>\n",
       "      <td>551.4</td>\n",
       "      <td>553.8</td>\n",
       "      <td>555.45</td>\n",
       "      <td>558.44</td>\n",
       "      <td>1292735</td>\n",
       "      <td>7.219101e+08</td>\n",
       "      <td>39632</td>\n",
       "      <td>569809</td>\n",
       "      <td>44.08</td>\n",
       "      <td>5</td>\n",
       "      <td>2017</td>\n",
       "      <td>0.597664</td>\n",
       "      <td>Slight positive</td>\n",
       "    </tr>\n",
       "    <tr>\n",
       "      <th>2017-05-22</th>\n",
       "      <td>EQ</td>\n",
       "      <td>555.45</td>\n",
       "      <td>557.50</td>\n",
       "      <td>559.95</td>\n",
       "      <td>542.6</td>\n",
       "      <td>545.5</td>\n",
       "      <td>544.85</td>\n",
       "      <td>548.78</td>\n",
       "      <td>676006</td>\n",
       "      <td>3.709780e+08</td>\n",
       "      <td>13070</td>\n",
       "      <td>285523</td>\n",
       "      <td>42.24</td>\n",
       "      <td>5</td>\n",
       "      <td>2017</td>\n",
       "      <td>-1.908363</td>\n",
       "      <td>Negative</td>\n",
       "    </tr>\n",
       "  </tbody>\n",
       "</table>\n",
       "</div>"
      ],
      "text/plain": [
       "           Series  Prev Close  Open Price  High Price  Low Price  Last Price  \\\n",
       "Date                                                                           \n",
       "2017-05-16     EQ      563.90      564.80      567.70      559.0       561.6   \n",
       "2017-05-17     EQ      562.60      563.00      569.90      558.0       564.7   \n",
       "2017-05-18     EQ      564.25      559.80      563.00      551.0       553.5   \n",
       "2017-05-19     EQ      552.15      560.95      567.00      551.4       553.8   \n",
       "2017-05-22     EQ      555.45      557.50      559.95      542.6       545.5   \n",
       "\n",
       "            Close Price  Average Price  Total Traded Quantity      Turnover  \\\n",
       "Date                                                                          \n",
       "2017-05-16       562.60         562.26                 495571  2.786409e+08   \n",
       "2017-05-17       564.25         563.94                 831318  4.688176e+08   \n",
       "2017-05-18       552.15         555.33                1050920  5.836120e+08   \n",
       "2017-05-19       555.45         558.44                1292735  7.219101e+08   \n",
       "2017-05-22       544.85         548.78                 676006  3.709780e+08   \n",
       "\n",
       "            No. of Trades  Deliverable Qty  % Dly Qt to Traded Qty  Month  \\\n",
       "Date                                                                        \n",
       "2017-05-16           8172           203735                   41.11      5   \n",
       "2017-05-17          13860           253851                   30.54      5   \n",
       "2017-05-18          27124           615645                   58.58      5   \n",
       "2017-05-19          39632           569809                   44.08      5   \n",
       "2017-05-22          13070           285523                   42.24      5   \n",
       "\n",
       "            Year  Day_Perc_Change                Trend  \n",
       "Date                                                    \n",
       "2017-05-16  2017        -0.230537  Slight or No change  \n",
       "2017-05-17  2017         0.293281  Slight or No change  \n",
       "2017-05-18  2017        -2.144440             Negative  \n",
       "2017-05-19  2017         0.597664      Slight positive  \n",
       "2017-05-22  2017        -1.908363             Negative  "
      ]
     },
     "execution_count": 2,
     "metadata": {},
     "output_type": "execute_result"
    }
   ],
   "source": [
    "stock_data = pd.read_csv(\"./week2.csv\",index_col=0)\n",
    "stock_data.Date = pd.to_datetime(stock_data.Date)\n",
    "stock_data = stock_data.set_index('Date')\n",
    "stock_data.head()"
   ]
  },
  {
   "cell_type": "markdown",
   "metadata": {},
   "source": [
    "<h4>4.1a.1 Adding Bollinger Bands Columns</h4>"
   ]
  },
  {
   "cell_type": "code",
   "execution_count": 3,
   "metadata": {},
   "outputs": [],
   "source": [
    "rolling_avg = stock_data['Close Price'].rolling(window=14).mean()\n",
    "rolling_std = stock_data['Close Price'].rolling(window=14).std()"
   ]
  },
  {
   "cell_type": "code",
   "execution_count": 4,
   "metadata": {},
   "outputs": [
    {
     "data": {
      "text/html": [
       "<div>\n",
       "<style scoped>\n",
       "    .dataframe tbody tr th:only-of-type {\n",
       "        vertical-align: middle;\n",
       "    }\n",
       "\n",
       "    .dataframe tbody tr th {\n",
       "        vertical-align: top;\n",
       "    }\n",
       "\n",
       "    .dataframe thead th {\n",
       "        text-align: right;\n",
       "    }\n",
       "</style>\n",
       "<table border=\"1\" class=\"dataframe\">\n",
       "  <thead>\n",
       "    <tr style=\"text-align: right;\">\n",
       "      <th></th>\n",
       "      <th>Series</th>\n",
       "      <th>Prev Close</th>\n",
       "      <th>Open Price</th>\n",
       "      <th>High Price</th>\n",
       "      <th>Low Price</th>\n",
       "      <th>Last Price</th>\n",
       "      <th>Close Price</th>\n",
       "      <th>Average Price</th>\n",
       "      <th>Total Traded Quantity</th>\n",
       "      <th>Turnover</th>\n",
       "      <th>No. of Trades</th>\n",
       "      <th>Deliverable Qty</th>\n",
       "      <th>% Dly Qt to Traded Qty</th>\n",
       "      <th>Month</th>\n",
       "      <th>Year</th>\n",
       "      <th>Day_Perc_Change</th>\n",
       "      <th>Trend</th>\n",
       "      <th>lower</th>\n",
       "      <th>avg</th>\n",
       "      <th>upper</th>\n",
       "    </tr>\n",
       "    <tr>\n",
       "      <th>Date</th>\n",
       "      <th></th>\n",
       "      <th></th>\n",
       "      <th></th>\n",
       "      <th></th>\n",
       "      <th></th>\n",
       "      <th></th>\n",
       "      <th></th>\n",
       "      <th></th>\n",
       "      <th></th>\n",
       "      <th></th>\n",
       "      <th></th>\n",
       "      <th></th>\n",
       "      <th></th>\n",
       "      <th></th>\n",
       "      <th></th>\n",
       "      <th></th>\n",
       "      <th></th>\n",
       "      <th></th>\n",
       "      <th></th>\n",
       "      <th></th>\n",
       "    </tr>\n",
       "  </thead>\n",
       "  <tbody>\n",
       "    <tr>\n",
       "      <th>2017-06-02</th>\n",
       "      <td>EQ</td>\n",
       "      <td>550.10</td>\n",
       "      <td>552.0</td>\n",
       "      <td>558.00</td>\n",
       "      <td>546.05</td>\n",
       "      <td>550.0</td>\n",
       "      <td>550.85</td>\n",
       "      <td>552.57</td>\n",
       "      <td>1634243</td>\n",
       "      <td>9.030334e+08</td>\n",
       "      <td>26334</td>\n",
       "      <td>526126</td>\n",
       "      <td>32.19</td>\n",
       "      <td>6</td>\n",
       "      <td>2017</td>\n",
       "      <td>0.136339</td>\n",
       "      <td>Slight or No change</td>\n",
       "      <td>499.691449</td>\n",
       "      <td>538.328571</td>\n",
       "      <td>576.965694</td>\n",
       "    </tr>\n",
       "    <tr>\n",
       "      <th>2017-06-05</th>\n",
       "      <td>EQ</td>\n",
       "      <td>550.85</td>\n",
       "      <td>552.9</td>\n",
       "      <td>552.90</td>\n",
       "      <td>540.00</td>\n",
       "      <td>542.8</td>\n",
       "      <td>542.95</td>\n",
       "      <td>546.73</td>\n",
       "      <td>761989</td>\n",
       "      <td>4.166011e+08</td>\n",
       "      <td>14325</td>\n",
       "      <td>286938</td>\n",
       "      <td>37.66</td>\n",
       "      <td>6</td>\n",
       "      <td>2017</td>\n",
       "      <td>-1.434147</td>\n",
       "      <td>Negative</td>\n",
       "      <td>500.735908</td>\n",
       "      <td>536.925000</td>\n",
       "      <td>573.114092</td>\n",
       "    </tr>\n",
       "    <tr>\n",
       "      <th>2017-06-06</th>\n",
       "      <td>EQ</td>\n",
       "      <td>542.95</td>\n",
       "      <td>543.4</td>\n",
       "      <td>550.80</td>\n",
       "      <td>537.50</td>\n",
       "      <td>541.4</td>\n",
       "      <td>542.80</td>\n",
       "      <td>544.27</td>\n",
       "      <td>1075850</td>\n",
       "      <td>5.855533e+08</td>\n",
       "      <td>18819</td>\n",
       "      <td>234654</td>\n",
       "      <td>21.81</td>\n",
       "      <td>6</td>\n",
       "      <td>2017</td>\n",
       "      <td>-0.027627</td>\n",
       "      <td>Slight or No change</td>\n",
       "      <td>502.523141</td>\n",
       "      <td>535.392857</td>\n",
       "      <td>568.262573</td>\n",
       "    </tr>\n",
       "    <tr>\n",
       "      <th>2017-06-07</th>\n",
       "      <td>EQ</td>\n",
       "      <td>542.80</td>\n",
       "      <td>543.0</td>\n",
       "      <td>552.70</td>\n",
       "      <td>539.35</td>\n",
       "      <td>550.3</td>\n",
       "      <td>549.45</td>\n",
       "      <td>545.51</td>\n",
       "      <td>1431120</td>\n",
       "      <td>7.806840e+08</td>\n",
       "      <td>20354</td>\n",
       "      <td>640881</td>\n",
       "      <td>44.78</td>\n",
       "      <td>6</td>\n",
       "      <td>2017</td>\n",
       "      <td>1.225129</td>\n",
       "      <td>Positive</td>\n",
       "      <td>502.724494</td>\n",
       "      <td>535.200000</td>\n",
       "      <td>567.675506</td>\n",
       "    </tr>\n",
       "    <tr>\n",
       "      <th>2017-06-08</th>\n",
       "      <td>EQ</td>\n",
       "      <td>549.45</td>\n",
       "      <td>551.7</td>\n",
       "      <td>551.85</td>\n",
       "      <td>542.10</td>\n",
       "      <td>542.5</td>\n",
       "      <td>544.65</td>\n",
       "      <td>546.62</td>\n",
       "      <td>1553389</td>\n",
       "      <td>8.491133e+08</td>\n",
       "      <td>25524</td>\n",
       "      <td>777537</td>\n",
       "      <td>50.05</td>\n",
       "      <td>6</td>\n",
       "      <td>2017</td>\n",
       "      <td>-0.873601</td>\n",
       "      <td>Slight negative</td>\n",
       "      <td>503.551403</td>\n",
       "      <td>534.428571</td>\n",
       "      <td>565.305740</td>\n",
       "    </tr>\n",
       "  </tbody>\n",
       "</table>\n",
       "</div>"
      ],
      "text/plain": [
       "           Series  Prev Close  Open Price  High Price  Low Price  Last Price  \\\n",
       "Date                                                                           \n",
       "2017-06-02     EQ      550.10       552.0      558.00     546.05       550.0   \n",
       "2017-06-05     EQ      550.85       552.9      552.90     540.00       542.8   \n",
       "2017-06-06     EQ      542.95       543.4      550.80     537.50       541.4   \n",
       "2017-06-07     EQ      542.80       543.0      552.70     539.35       550.3   \n",
       "2017-06-08     EQ      549.45       551.7      551.85     542.10       542.5   \n",
       "\n",
       "            Close Price  Average Price  Total Traded Quantity      Turnover  \\\n",
       "Date                                                                          \n",
       "2017-06-02       550.85         552.57                1634243  9.030334e+08   \n",
       "2017-06-05       542.95         546.73                 761989  4.166011e+08   \n",
       "2017-06-06       542.80         544.27                1075850  5.855533e+08   \n",
       "2017-06-07       549.45         545.51                1431120  7.806840e+08   \n",
       "2017-06-08       544.65         546.62                1553389  8.491133e+08   \n",
       "\n",
       "            No. of Trades  Deliverable Qty  % Dly Qt to Traded Qty  Month  \\\n",
       "Date                                                                        \n",
       "2017-06-02          26334           526126                   32.19      6   \n",
       "2017-06-05          14325           286938                   37.66      6   \n",
       "2017-06-06          18819           234654                   21.81      6   \n",
       "2017-06-07          20354           640881                   44.78      6   \n",
       "2017-06-08          25524           777537                   50.05      6   \n",
       "\n",
       "            Year  Day_Perc_Change                Trend       lower  \\\n",
       "Date                                                                 \n",
       "2017-06-02  2017         0.136339  Slight or No change  499.691449   \n",
       "2017-06-05  2017        -1.434147             Negative  500.735908   \n",
       "2017-06-06  2017        -0.027627  Slight or No change  502.523141   \n",
       "2017-06-07  2017         1.225129             Positive  502.724494   \n",
       "2017-06-08  2017        -0.873601      Slight negative  503.551403   \n",
       "\n",
       "                   avg       upper  \n",
       "Date                                \n",
       "2017-06-02  538.328571  576.965694  \n",
       "2017-06-05  536.925000  573.114092  \n",
       "2017-06-06  535.392857  568.262573  \n",
       "2017-06-07  535.200000  567.675506  \n",
       "2017-06-08  534.428571  565.305740  "
      ]
     },
     "execution_count": 4,
     "metadata": {},
     "output_type": "execute_result"
    }
   ],
   "source": [
    "stock_data['lower'] = rolling_avg-2*rolling_std\n",
    "stock_data['avg'] = rolling_avg\n",
    "stock_data['upper'] = rolling_avg+2*rolling_std\n",
    "stock_data.dropna(inplace=True)\n",
    "stock_data.head()"
   ]
  },
  {
   "cell_type": "markdown",
   "metadata": {},
   "source": [
    "<h4>4.1a.2 Create a new column Call</h4>"
   ]
  },
  {
   "cell_type": "code",
   "execution_count": 5,
   "metadata": {},
   "outputs": [],
   "source": [
    "def classifying_call(close,lower,avg,upper):\n",
    "    if close <= lower:\n",
    "        return 'Buy'\n",
    "    if (close > lower) and (close <= avg):\n",
    "        return 'Hold Buy/Liquidate Short'\n",
    "    elif (close > avg) and (close <= upper):\n",
    "        return 'Hold Short/Liquidate Buy'\n",
    "    elif close > upper:\n",
    "        return 'Short'"
   ]
  },
  {
   "cell_type": "code",
   "execution_count": 6,
   "metadata": {},
   "outputs": [],
   "source": [
    "stock_data[\"Call\"] = stock_data.apply(lambda record : classifying_call(record['Close Price'], record['lower'], record['avg'], record['upper']), axis = 1) "
   ]
  },
  {
   "cell_type": "code",
   "execution_count": 7,
   "metadata": {},
   "outputs": [
    {
     "data": {
      "text/plain": [
       "array(['Hold Short/Liquidate Buy', 'Hold Buy/Liquidate Short', 'Buy',\n",
       "       'Short'], dtype=object)"
      ]
     },
     "execution_count": 7,
     "metadata": {},
     "output_type": "execute_result"
    }
   ],
   "source": [
    "stock_data.Call.unique()"
   ]
  },
  {
   "cell_type": "code",
   "execution_count": 8,
   "metadata": {},
   "outputs": [
    {
     "data": {
      "text/plain": [
       "Hold Short/Liquidate Buy    245\n",
       "Hold Buy/Liquidate Short    194\n",
       "Short                        21\n",
       "Buy                          20\n",
       "Name: Call, dtype: int64"
      ]
     },
     "execution_count": 8,
     "metadata": {},
     "output_type": "execute_result"
    }
   ],
   "source": [
    "stock_data.Call.value_counts()"
   ]
  },
  {
   "cell_type": "code",
   "execution_count": 9,
   "metadata": {},
   "outputs": [],
   "source": [
    "stock_data.to_csv('./week4.csv')"
   ]
  },
  {
   "cell_type": "markdown",
   "metadata": {},
   "source": [
    "<h3>Query 4.1b Training Different Classification models"
   ]
  },
  {
   "cell_type": "markdown",
   "metadata": {},
   "source": [
    "<h4>4.1b.1 Training Testing Split"
   ]
  },
  {
   "cell_type": "code",
   "execution_count": 10,
   "metadata": {},
   "outputs": [
    {
     "data": {
      "text/html": [
       "<div>\n",
       "<style scoped>\n",
       "    .dataframe tbody tr th:only-of-type {\n",
       "        vertical-align: middle;\n",
       "    }\n",
       "\n",
       "    .dataframe tbody tr th {\n",
       "        vertical-align: top;\n",
       "    }\n",
       "\n",
       "    .dataframe thead th {\n",
       "        text-align: right;\n",
       "    }\n",
       "</style>\n",
       "<table border=\"1\" class=\"dataframe\">\n",
       "  <thead>\n",
       "    <tr style=\"text-align: right;\">\n",
       "      <th></th>\n",
       "      <th>lower</th>\n",
       "      <th>avg</th>\n",
       "      <th>upper</th>\n",
       "      <th>Close Price</th>\n",
       "    </tr>\n",
       "    <tr>\n",
       "      <th>Date</th>\n",
       "      <th></th>\n",
       "      <th></th>\n",
       "      <th></th>\n",
       "      <th></th>\n",
       "    </tr>\n",
       "  </thead>\n",
       "  <tbody>\n",
       "    <tr>\n",
       "      <th>2017-06-02</th>\n",
       "      <td>499.691449</td>\n",
       "      <td>538.328571</td>\n",
       "      <td>576.965694</td>\n",
       "      <td>550.85</td>\n",
       "    </tr>\n",
       "    <tr>\n",
       "      <th>2017-06-05</th>\n",
       "      <td>500.735908</td>\n",
       "      <td>536.925000</td>\n",
       "      <td>573.114092</td>\n",
       "      <td>542.95</td>\n",
       "    </tr>\n",
       "    <tr>\n",
       "      <th>2017-06-06</th>\n",
       "      <td>502.523141</td>\n",
       "      <td>535.392857</td>\n",
       "      <td>568.262573</td>\n",
       "      <td>542.80</td>\n",
       "    </tr>\n",
       "    <tr>\n",
       "      <th>2017-06-07</th>\n",
       "      <td>502.724494</td>\n",
       "      <td>535.200000</td>\n",
       "      <td>567.675506</td>\n",
       "      <td>549.45</td>\n",
       "    </tr>\n",
       "    <tr>\n",
       "      <th>2017-06-08</th>\n",
       "      <td>503.551403</td>\n",
       "      <td>534.428571</td>\n",
       "      <td>565.305740</td>\n",
       "      <td>544.65</td>\n",
       "    </tr>\n",
       "  </tbody>\n",
       "</table>\n",
       "</div>"
      ],
      "text/plain": [
       "                 lower         avg       upper  Close Price\n",
       "Date                                                       \n",
       "2017-06-02  499.691449  538.328571  576.965694       550.85\n",
       "2017-06-05  500.735908  536.925000  573.114092       542.95\n",
       "2017-06-06  502.523141  535.392857  568.262573       542.80\n",
       "2017-06-07  502.724494  535.200000  567.675506       549.45\n",
       "2017-06-08  503.551403  534.428571  565.305740       544.65"
      ]
     },
     "execution_count": 10,
     "metadata": {},
     "output_type": "execute_result"
    }
   ],
   "source": [
    "Input = stock_data[['lower','avg','upper','Close Price']]\n",
    "Input.head()"
   ]
  },
  {
   "cell_type": "code",
   "execution_count": 11,
   "metadata": {},
   "outputs": [
    {
     "data": {
      "text/html": [
       "<div>\n",
       "<style scoped>\n",
       "    .dataframe tbody tr th:only-of-type {\n",
       "        vertical-align: middle;\n",
       "    }\n",
       "\n",
       "    .dataframe tbody tr th {\n",
       "        vertical-align: top;\n",
       "    }\n",
       "\n",
       "    .dataframe thead th {\n",
       "        text-align: right;\n",
       "    }\n",
       "</style>\n",
       "<table border=\"1\" class=\"dataframe\">\n",
       "  <thead>\n",
       "    <tr style=\"text-align: right;\">\n",
       "      <th></th>\n",
       "      <th>0</th>\n",
       "    </tr>\n",
       "  </thead>\n",
       "  <tbody>\n",
       "    <tr>\n",
       "      <th>0</th>\n",
       "      <td>2</td>\n",
       "    </tr>\n",
       "    <tr>\n",
       "      <th>1</th>\n",
       "      <td>2</td>\n",
       "    </tr>\n",
       "    <tr>\n",
       "      <th>2</th>\n",
       "      <td>2</td>\n",
       "    </tr>\n",
       "    <tr>\n",
       "      <th>3</th>\n",
       "      <td>2</td>\n",
       "    </tr>\n",
       "    <tr>\n",
       "      <th>4</th>\n",
       "      <td>2</td>\n",
       "    </tr>\n",
       "  </tbody>\n",
       "</table>\n",
       "</div>"
      ],
      "text/plain": [
       "   0\n",
       "0  2\n",
       "1  2\n",
       "2  2\n",
       "3  2\n",
       "4  2"
      ]
     },
     "execution_count": 11,
     "metadata": {},
     "output_type": "execute_result"
    }
   ],
   "source": [
    "from sklearn import preprocessing\n",
    "label_encoder = preprocessing.LabelEncoder()\n",
    "numbered_label = label_encoder.fit_transform(stock_data.Call.ravel())\n",
    "Output = pd.DataFrame(numbered_label)\n",
    "Output.head()"
   ]
  },
  {
   "cell_type": "code",
   "execution_count": 12,
   "metadata": {},
   "outputs": [],
   "source": [
    "from sklearn.model_selection import train_test_split\n",
    "X_train, X_test,y_train, y_test = train_test_split(Input, Output, test_size=0.2)"
   ]
  },
  {
   "cell_type": "code",
   "execution_count": 13,
   "metadata": {},
   "outputs": [],
   "source": [
    "y_train = y_train.values.reshape(len(y_train))\n",
    "y_test = y_test.values.reshape(len(y_test))"
   ]
  },
  {
   "cell_type": "markdown",
   "metadata": {},
   "source": [
    "<h4>4.1b.2 Training Different models</h4>\n",
    "<h4>Different Classification Algorithm</h4><br>\n",
    "Naive bayes (Linear Classifier)<br>\n",
    "Logistic Regression (Linear Classifier)<br>\n",
    "Support Vector Machine<br>\n",
    "K-NEAREST NEIGHBOUR (KNN)<br>\n",
    "Random Forest<br>"
   ]
  },
  {
   "cell_type": "code",
   "execution_count": 15,
   "metadata": {},
   "outputs": [],
   "source": [
    "classifers_train_test = pd.DataFrame(columns=[\"Classifier\",\"Train_AUC\", \"Test_AUC\"])"
   ]
  },
  {
   "cell_type": "markdown",
   "metadata": {},
   "source": [
    "Naive bayes"
   ]
  },
  {
   "cell_type": "code",
   "execution_count": 16,
   "metadata": {},
   "outputs": [
    {
     "data": {
      "text/plain": [
       "GaussianNB(priors=None)"
      ]
     },
     "execution_count": 16,
     "metadata": {},
     "output_type": "execute_result"
    }
   ],
   "source": [
    "from sklearn.naive_bayes import GaussianNB\n",
    "gaussian_classifier = GaussianNB()\n",
    "gaussian_classifier.fit(X_train, y_train)"
   ]
  },
  {
   "cell_type": "code",
   "execution_count": 17,
   "metadata": {},
   "outputs": [
    {
     "data": {
      "text/plain": [
       "0.58"
      ]
     },
     "execution_count": 17,
     "metadata": {},
     "output_type": "execute_result"
    }
   ],
   "source": [
    "training_accuracy = gaussian_classifier.score(X_train, y_train).round(2)\n",
    "training_accuracy"
   ]
  },
  {
   "cell_type": "code",
   "execution_count": 18,
   "metadata": {},
   "outputs": [
    {
     "data": {
      "text/plain": [
       "0.52"
      ]
     },
     "execution_count": 18,
     "metadata": {},
     "output_type": "execute_result"
    }
   ],
   "source": [
    "testing_accuracy = gaussian_classifier.score(X_test, y_test).round(2)\n",
    "testing_accuracy"
   ]
  },
  {
   "cell_type": "code",
   "execution_count": 19,
   "metadata": {},
   "outputs": [],
   "source": [
    "classifers_train_test.loc[0] = [\"Naive Bayes\", training_accuracy, testing_accuracy]"
   ]
  },
  {
   "cell_type": "markdown",
   "metadata": {},
   "source": [
    "Logistic Regression"
   ]
  },
  {
   "cell_type": "code",
   "execution_count": 20,
   "metadata": {},
   "outputs": [
    {
     "data": {
      "text/plain": [
       "LogisticRegression(C=1.0, class_weight='balanced', dual=False,\n",
       "          fit_intercept=True, intercept_scaling=1, max_iter=10000,\n",
       "          multi_class='ovr', n_jobs=1, penalty='l2', random_state=None,\n",
       "          solver='liblinear', tol=0.0001, verbose=0, warm_start=False)"
      ]
     },
     "execution_count": 20,
     "metadata": {},
     "output_type": "execute_result"
    }
   ],
   "source": [
    "from sklearn.linear_model import LogisticRegression\n",
    "lr = LogisticRegression(max_iter=10000,class_weight='balanced', multi_class=\"ovr\", solver='liblinear')\n",
    "lr.fit(X_train, y_train)"
   ]
  },
  {
   "cell_type": "code",
   "execution_count": 21,
   "metadata": {},
   "outputs": [
    {
     "data": {
      "text/plain": [
       "0.99"
      ]
     },
     "execution_count": 21,
     "metadata": {},
     "output_type": "execute_result"
    }
   ],
   "source": [
    "training_accuracy = lr.score(X_train, y_train).round(2)\n",
    "training_accuracy"
   ]
  },
  {
   "cell_type": "code",
   "execution_count": 22,
   "metadata": {},
   "outputs": [
    {
     "data": {
      "text/plain": [
       "0.99"
      ]
     },
     "execution_count": 22,
     "metadata": {},
     "output_type": "execute_result"
    }
   ],
   "source": [
    "testing_accuracy = lr.score(X_test, y_test).round(2)\n",
    "testing_accuracy"
   ]
  },
  {
   "cell_type": "code",
   "execution_count": 23,
   "metadata": {},
   "outputs": [],
   "source": [
    "classifers_train_test.loc[1] = [\"Logistic Regression\", training_accuracy, testing_accuracy]"
   ]
  },
  {
   "cell_type": "markdown",
   "metadata": {},
   "source": [
    "KNN"
   ]
  },
  {
   "cell_type": "code",
   "execution_count": 25,
   "metadata": {},
   "outputs": [
    {
     "data": {
      "text/plain": [
       "KNeighborsClassifier(algorithm='auto', leaf_size=30, metric='minkowski',\n",
       "           metric_params=None, n_jobs=1, n_neighbors=3, p=2,\n",
       "           weights='uniform')"
      ]
     },
     "execution_count": 25,
     "metadata": {},
     "output_type": "execute_result"
    }
   ],
   "source": [
    "from sklearn.neighbors import KNeighborsClassifier\n",
    "knn_classifier = KNeighborsClassifier(n_neighbors=3)\n",
    "knn_classifier.fit(X_train, y_train)"
   ]
  },
  {
   "cell_type": "code",
   "execution_count": 26,
   "metadata": {},
   "outputs": [
    {
     "data": {
      "text/plain": [
       "0.93"
      ]
     },
     "execution_count": 26,
     "metadata": {},
     "output_type": "execute_result"
    }
   ],
   "source": [
    "training_accuracy = knn_classifier.score(X_train, y_train).round(2)\n",
    "training_accuracy"
   ]
  },
  {
   "cell_type": "code",
   "execution_count": 27,
   "metadata": {},
   "outputs": [
    {
     "data": {
      "text/plain": [
       "0.75"
      ]
     },
     "execution_count": 27,
     "metadata": {},
     "output_type": "execute_result"
    }
   ],
   "source": [
    "testing_accuracy = knn_classifier.score(X_test, y_test).round(2)\n",
    "testing_accuracy"
   ]
  },
  {
   "cell_type": "code",
   "execution_count": 28,
   "metadata": {},
   "outputs": [],
   "source": [
    "classifers_train_test.loc[3] = [\"KNN\", training_accuracy, testing_accuracy]"
   ]
  },
  {
   "cell_type": "markdown",
   "metadata": {},
   "source": [
    "Random Forest Classifier"
   ]
  },
  {
   "cell_type": "code",
   "execution_count": 29,
   "metadata": {},
   "outputs": [
    {
     "data": {
      "text/plain": [
       "RandomForestClassifier(bootstrap=True, class_weight='balanced',\n",
       "            criterion='gini', max_depth=3, max_features='auto',\n",
       "            max_leaf_nodes=None, min_impurity_decrease=0.0,\n",
       "            min_impurity_split=None, min_samples_leaf=1,\n",
       "            min_samples_split=2, min_weight_fraction_leaf=0.0,\n",
       "            n_estimators=10, n_jobs=1, oob_score=False, random_state=None,\n",
       "            verbose=0, warm_start=False)"
      ]
     },
     "execution_count": 29,
     "metadata": {},
     "output_type": "execute_result"
    }
   ],
   "source": [
    "from sklearn.ensemble import RandomForestClassifier\n",
    "rf_classifier = RandomForestClassifier(max_depth =3, n_estimators = 10,class_weight='balanced')\n",
    "rf_classifier.fit(X_train, y_train)"
   ]
  },
  {
   "cell_type": "code",
   "execution_count": 30,
   "metadata": {},
   "outputs": [
    {
     "data": {
      "text/plain": [
       "0.66"
      ]
     },
     "execution_count": 30,
     "metadata": {},
     "output_type": "execute_result"
    }
   ],
   "source": [
    "training_accuracy = rf_classifier.score(X_train, y_train).round(2)\n",
    "training_accuracy"
   ]
  },
  {
   "cell_type": "code",
   "execution_count": 31,
   "metadata": {},
   "outputs": [
    {
     "data": {
      "text/plain": [
       "0.59"
      ]
     },
     "execution_count": 31,
     "metadata": {},
     "output_type": "execute_result"
    }
   ],
   "source": [
    "testing_accuracy = rf_classifier.score(X_test, y_test).round(2)\n",
    "testing_accuracy"
   ]
  },
  {
   "cell_type": "code",
   "execution_count": 32,
   "metadata": {},
   "outputs": [],
   "source": [
    "classifers_train_test.loc[4] = [\"Random Forest\", training_accuracy, testing_accuracy]"
   ]
  },
  {
   "cell_type": "markdown",
   "metadata": {},
   "source": [
    "<h4>4.1b.3 Accuracy of all models"
   ]
  },
  {
   "cell_type": "code",
   "execution_count": 33,
   "metadata": {},
   "outputs": [
    {
     "data": {
      "text/html": [
       "<div>\n",
       "<style scoped>\n",
       "    .dataframe tbody tr th:only-of-type {\n",
       "        vertical-align: middle;\n",
       "    }\n",
       "\n",
       "    .dataframe tbody tr th {\n",
       "        vertical-align: top;\n",
       "    }\n",
       "\n",
       "    .dataframe thead th {\n",
       "        text-align: right;\n",
       "    }\n",
       "</style>\n",
       "<table border=\"1\" class=\"dataframe\">\n",
       "  <thead>\n",
       "    <tr style=\"text-align: right;\">\n",
       "      <th></th>\n",
       "      <th>Classifier</th>\n",
       "      <th>Train_AUC</th>\n",
       "      <th>Test_AUC</th>\n",
       "    </tr>\n",
       "  </thead>\n",
       "  <tbody>\n",
       "    <tr>\n",
       "      <th>0</th>\n",
       "      <td>Naive Bayes</td>\n",
       "      <td>0.58</td>\n",
       "      <td>0.52</td>\n",
       "    </tr>\n",
       "    <tr>\n",
       "      <th>1</th>\n",
       "      <td>Logistic Regression</td>\n",
       "      <td>0.99</td>\n",
       "      <td>0.99</td>\n",
       "    </tr>\n",
       "    <tr>\n",
       "      <th>3</th>\n",
       "      <td>KNN</td>\n",
       "      <td>0.93</td>\n",
       "      <td>0.75</td>\n",
       "    </tr>\n",
       "    <tr>\n",
       "      <th>4</th>\n",
       "      <td>Random Forest</td>\n",
       "      <td>0.66</td>\n",
       "      <td>0.59</td>\n",
       "    </tr>\n",
       "  </tbody>\n",
       "</table>\n",
       "</div>"
      ],
      "text/plain": [
       "            Classifier  Train_AUC  Test_AUC\n",
       "0          Naive Bayes       0.58      0.52\n",
       "1  Logistic Regression       0.99      0.99\n",
       "3                  KNN       0.93      0.75\n",
       "4        Random Forest       0.66      0.59"
      ]
     },
     "execution_count": 33,
     "metadata": {},
     "output_type": "execute_result"
    }
   ],
   "source": [
    "classifers_train_test"
   ]
  },
  {
   "cell_type": "markdown",
   "metadata": {},
   "source": [
    "<h4>Logistic Regression gives the best accuracy and performance among all five models."
   ]
  },
  {
   "cell_type": "markdown",
   "metadata": {},
   "source": [
    "<h3>Query 4.1c Predicting Calls on another stock data"
   ]
  },
  {
   "cell_type": "code",
   "execution_count": 34,
   "metadata": {},
   "outputs": [
    {
     "data": {
      "text/html": [
       "<div>\n",
       "<style scoped>\n",
       "    .dataframe tbody tr th:only-of-type {\n",
       "        vertical-align: middle;\n",
       "    }\n",
       "\n",
       "    .dataframe tbody tr th {\n",
       "        vertical-align: top;\n",
       "    }\n",
       "\n",
       "    .dataframe thead th {\n",
       "        text-align: right;\n",
       "    }\n",
       "</style>\n",
       "<table border=\"1\" class=\"dataframe\">\n",
       "  <thead>\n",
       "    <tr style=\"text-align: right;\">\n",
       "      <th></th>\n",
       "      <th>Symbol</th>\n",
       "      <th>Series</th>\n",
       "      <th>Prev Close</th>\n",
       "      <th>Open Price</th>\n",
       "      <th>High Price</th>\n",
       "      <th>Low Price</th>\n",
       "      <th>Last Price</th>\n",
       "      <th>Close Price</th>\n",
       "      <th>Average Price</th>\n",
       "      <th>Total Traded Quantity</th>\n",
       "      <th>Turnover</th>\n",
       "      <th>No. of Trades</th>\n",
       "      <th>Deliverable Qty</th>\n",
       "      <th>% Dly Qt to Traded Qty</th>\n",
       "    </tr>\n",
       "    <tr>\n",
       "      <th>Date</th>\n",
       "      <th></th>\n",
       "      <th></th>\n",
       "      <th></th>\n",
       "      <th></th>\n",
       "      <th></th>\n",
       "      <th></th>\n",
       "      <th></th>\n",
       "      <th></th>\n",
       "      <th></th>\n",
       "      <th></th>\n",
       "      <th></th>\n",
       "      <th></th>\n",
       "      <th></th>\n",
       "      <th></th>\n",
       "    </tr>\n",
       "  </thead>\n",
       "  <tbody>\n",
       "    <tr>\n",
       "      <th>2017-05-15</th>\n",
       "      <td>LT</td>\n",
       "      <td>EQ</td>\n",
       "      <td>1740.60</td>\n",
       "      <td>1748.60</td>\n",
       "      <td>1751.55</td>\n",
       "      <td>1736.50</td>\n",
       "      <td>1742.00</td>\n",
       "      <td>1742.40</td>\n",
       "      <td>1743.15</td>\n",
       "      <td>797134</td>\n",
       "      <td>1.389521e+09</td>\n",
       "      <td>52614</td>\n",
       "      <td>529359</td>\n",
       "      <td>66.41</td>\n",
       "    </tr>\n",
       "    <tr>\n",
       "      <th>2017-05-16</th>\n",
       "      <td>LT</td>\n",
       "      <td>EQ</td>\n",
       "      <td>1742.40</td>\n",
       "      <td>1747.00</td>\n",
       "      <td>1748.25</td>\n",
       "      <td>1727.55</td>\n",
       "      <td>1740.60</td>\n",
       "      <td>1740.70</td>\n",
       "      <td>1736.62</td>\n",
       "      <td>1102926</td>\n",
       "      <td>1.915365e+09</td>\n",
       "      <td>48756</td>\n",
       "      <td>674148</td>\n",
       "      <td>61.12</td>\n",
       "    </tr>\n",
       "    <tr>\n",
       "      <th>2017-05-17</th>\n",
       "      <td>LT</td>\n",
       "      <td>EQ</td>\n",
       "      <td>1740.70</td>\n",
       "      <td>1743.90</td>\n",
       "      <td>1764.00</td>\n",
       "      <td>1730.50</td>\n",
       "      <td>1754.30</td>\n",
       "      <td>1755.45</td>\n",
       "      <td>1749.36</td>\n",
       "      <td>1668586</td>\n",
       "      <td>2.918955e+09</td>\n",
       "      <td>77513</td>\n",
       "      <td>830692</td>\n",
       "      <td>49.78</td>\n",
       "    </tr>\n",
       "    <tr>\n",
       "      <th>2017-05-18</th>\n",
       "      <td>LT</td>\n",
       "      <td>EQ</td>\n",
       "      <td>1755.45</td>\n",
       "      <td>1739.65</td>\n",
       "      <td>1750.10</td>\n",
       "      <td>1716.40</td>\n",
       "      <td>1722.10</td>\n",
       "      <td>1722.60</td>\n",
       "      <td>1725.53</td>\n",
       "      <td>1437220</td>\n",
       "      <td>2.479968e+09</td>\n",
       "      <td>47602</td>\n",
       "      <td>915874</td>\n",
       "      <td>63.73</td>\n",
       "    </tr>\n",
       "    <tr>\n",
       "      <th>2017-05-19</th>\n",
       "      <td>LT</td>\n",
       "      <td>EQ</td>\n",
       "      <td>1722.60</td>\n",
       "      <td>1729.00</td>\n",
       "      <td>1734.00</td>\n",
       "      <td>1697.55</td>\n",
       "      <td>1720.05</td>\n",
       "      <td>1724.55</td>\n",
       "      <td>1718.73</td>\n",
       "      <td>1512094</td>\n",
       "      <td>2.598885e+09</td>\n",
       "      <td>59280</td>\n",
       "      <td>838396</td>\n",
       "      <td>55.45</td>\n",
       "    </tr>\n",
       "  </tbody>\n",
       "</table>\n",
       "</div>"
      ],
      "text/plain": [
       "           Symbol Series  Prev Close  Open Price  High Price  Low Price  \\\n",
       "Date                                                                      \n",
       "2017-05-15     LT     EQ     1740.60     1748.60     1751.55    1736.50   \n",
       "2017-05-16     LT     EQ     1742.40     1747.00     1748.25    1727.55   \n",
       "2017-05-17     LT     EQ     1740.70     1743.90     1764.00    1730.50   \n",
       "2017-05-18     LT     EQ     1755.45     1739.65     1750.10    1716.40   \n",
       "2017-05-19     LT     EQ     1722.60     1729.00     1734.00    1697.55   \n",
       "\n",
       "            Last Price  Close Price  Average Price  Total Traded Quantity  \\\n",
       "Date                                                                        \n",
       "2017-05-15     1742.00      1742.40        1743.15                 797134   \n",
       "2017-05-16     1740.60      1740.70        1736.62                1102926   \n",
       "2017-05-17     1754.30      1755.45        1749.36                1668586   \n",
       "2017-05-18     1722.10      1722.60        1725.53                1437220   \n",
       "2017-05-19     1720.05      1724.55        1718.73                1512094   \n",
       "\n",
       "                Turnover  No. of Trades  Deliverable Qty  \\\n",
       "Date                                                       \n",
       "2017-05-15  1.389521e+09          52614           529359   \n",
       "2017-05-16  1.915365e+09          48756           674148   \n",
       "2017-05-17  2.918955e+09          77513           830692   \n",
       "2017-05-18  2.479968e+09          47602           915874   \n",
       "2017-05-19  2.598885e+09          59280           838396   \n",
       "\n",
       "            % Dly Qt to Traded Qty  \n",
       "Date                                \n",
       "2017-05-15                   66.41  \n",
       "2017-05-16                   61.12  \n",
       "2017-05-17                   49.78  \n",
       "2017-05-18                   63.73  \n",
       "2017-05-19                   55.45  "
      ]
     },
     "execution_count": 34,
     "metadata": {},
     "output_type": "execute_result"
    }
   ],
   "source": [
    "# Importing another stock data \"LT\"\n",
    "another_data = pd.read_csv(\"./LT.csv\")\n",
    "another_data.Date = pd.to_datetime(another_data.Date)\n",
    "another_data.set_index(\"Date\", inplace=True)\n",
    "another_data.head()"
   ]
  },
  {
   "cell_type": "markdown",
   "metadata": {},
   "source": [
    "<h4>4.1c.1 Adding Bollinger Bands Columns"
   ]
  },
  {
   "cell_type": "code",
   "execution_count": 35,
   "metadata": {},
   "outputs": [],
   "source": [
    "rolling_avg = another_data['Close Price'].rolling(window=14).mean()\n",
    "rolling_std = another_data['Close Price'].rolling(window=14).std()"
   ]
  },
  {
   "cell_type": "code",
   "execution_count": 36,
   "metadata": {},
   "outputs": [
    {
     "data": {
      "text/html": [
       "<div>\n",
       "<style scoped>\n",
       "    .dataframe tbody tr th:only-of-type {\n",
       "        vertical-align: middle;\n",
       "    }\n",
       "\n",
       "    .dataframe tbody tr th {\n",
       "        vertical-align: top;\n",
       "    }\n",
       "\n",
       "    .dataframe thead th {\n",
       "        text-align: right;\n",
       "    }\n",
       "</style>\n",
       "<table border=\"1\" class=\"dataframe\">\n",
       "  <thead>\n",
       "    <tr style=\"text-align: right;\">\n",
       "      <th></th>\n",
       "      <th>Symbol</th>\n",
       "      <th>Series</th>\n",
       "      <th>Prev Close</th>\n",
       "      <th>Open Price</th>\n",
       "      <th>High Price</th>\n",
       "      <th>Low Price</th>\n",
       "      <th>Last Price</th>\n",
       "      <th>Close Price</th>\n",
       "      <th>Average Price</th>\n",
       "      <th>Total Traded Quantity</th>\n",
       "      <th>Turnover</th>\n",
       "      <th>No. of Trades</th>\n",
       "      <th>Deliverable Qty</th>\n",
       "      <th>% Dly Qt to Traded Qty</th>\n",
       "      <th>lower</th>\n",
       "      <th>avg</th>\n",
       "      <th>upper</th>\n",
       "    </tr>\n",
       "    <tr>\n",
       "      <th>Date</th>\n",
       "      <th></th>\n",
       "      <th></th>\n",
       "      <th></th>\n",
       "      <th></th>\n",
       "      <th></th>\n",
       "      <th></th>\n",
       "      <th></th>\n",
       "      <th></th>\n",
       "      <th></th>\n",
       "      <th></th>\n",
       "      <th></th>\n",
       "      <th></th>\n",
       "      <th></th>\n",
       "      <th></th>\n",
       "      <th></th>\n",
       "      <th></th>\n",
       "      <th></th>\n",
       "    </tr>\n",
       "  </thead>\n",
       "  <tbody>\n",
       "    <tr>\n",
       "      <th>2017-06-01</th>\n",
       "      <td>LT</td>\n",
       "      <td>EQ</td>\n",
       "      <td>1760.70</td>\n",
       "      <td>1760.0</td>\n",
       "      <td>1798.00</td>\n",
       "      <td>1748.00</td>\n",
       "      <td>1792.10</td>\n",
       "      <td>1792.80</td>\n",
       "      <td>1772.42</td>\n",
       "      <td>1932123</td>\n",
       "      <td>3.424526e+09</td>\n",
       "      <td>72013</td>\n",
       "      <td>957738</td>\n",
       "      <td>49.57</td>\n",
       "      <td>1693.461335</td>\n",
       "      <td>1751.625000</td>\n",
       "      <td>1809.788665</td>\n",
       "    </tr>\n",
       "    <tr>\n",
       "      <th>2017-06-02</th>\n",
       "      <td>LT</td>\n",
       "      <td>EQ</td>\n",
       "      <td>1792.80</td>\n",
       "      <td>1800.0</td>\n",
       "      <td>1805.00</td>\n",
       "      <td>1778.10</td>\n",
       "      <td>1784.85</td>\n",
       "      <td>1784.00</td>\n",
       "      <td>1787.39</td>\n",
       "      <td>950214</td>\n",
       "      <td>1.698405e+09</td>\n",
       "      <td>45529</td>\n",
       "      <td>436632</td>\n",
       "      <td>45.95</td>\n",
       "      <td>1694.253263</td>\n",
       "      <td>1754.596429</td>\n",
       "      <td>1814.939594</td>\n",
       "    </tr>\n",
       "    <tr>\n",
       "      <th>2017-06-05</th>\n",
       "      <td>LT</td>\n",
       "      <td>EQ</td>\n",
       "      <td>1784.00</td>\n",
       "      <td>1795.0</td>\n",
       "      <td>1809.40</td>\n",
       "      <td>1783.50</td>\n",
       "      <td>1804.35</td>\n",
       "      <td>1804.90</td>\n",
       "      <td>1802.25</td>\n",
       "      <td>1270946</td>\n",
       "      <td>2.290566e+09</td>\n",
       "      <td>62246</td>\n",
       "      <td>690909</td>\n",
       "      <td>54.36</td>\n",
       "      <td>1693.837723</td>\n",
       "      <td>1759.182143</td>\n",
       "      <td>1824.526563</td>\n",
       "    </tr>\n",
       "    <tr>\n",
       "      <th>2017-06-06</th>\n",
       "      <td>LT</td>\n",
       "      <td>EQ</td>\n",
       "      <td>1804.90</td>\n",
       "      <td>1807.7</td>\n",
       "      <td>1808.05</td>\n",
       "      <td>1772.15</td>\n",
       "      <td>1773.00</td>\n",
       "      <td>1775.15</td>\n",
       "      <td>1783.32</td>\n",
       "      <td>954046</td>\n",
       "      <td>1.701372e+09</td>\n",
       "      <td>50045</td>\n",
       "      <td>494546</td>\n",
       "      <td>51.84</td>\n",
       "      <td>1694.744536</td>\n",
       "      <td>1760.589286</td>\n",
       "      <td>1826.434035</td>\n",
       "    </tr>\n",
       "    <tr>\n",
       "      <th>2017-06-07</th>\n",
       "      <td>LT</td>\n",
       "      <td>EQ</td>\n",
       "      <td>1775.15</td>\n",
       "      <td>1774.0</td>\n",
       "      <td>1794.50</td>\n",
       "      <td>1773.00</td>\n",
       "      <td>1786.30</td>\n",
       "      <td>1788.60</td>\n",
       "      <td>1784.63</td>\n",
       "      <td>885027</td>\n",
       "      <td>1.579445e+09</td>\n",
       "      <td>53026</td>\n",
       "      <td>466130</td>\n",
       "      <td>52.67</td>\n",
       "      <td>1701.764977</td>\n",
       "      <td>1765.303571</td>\n",
       "      <td>1828.842166</td>\n",
       "    </tr>\n",
       "  </tbody>\n",
       "</table>\n",
       "</div>"
      ],
      "text/plain": [
       "           Symbol Series  Prev Close  Open Price  High Price  Low Price  \\\n",
       "Date                                                                      \n",
       "2017-06-01     LT     EQ     1760.70      1760.0     1798.00    1748.00   \n",
       "2017-06-02     LT     EQ     1792.80      1800.0     1805.00    1778.10   \n",
       "2017-06-05     LT     EQ     1784.00      1795.0     1809.40    1783.50   \n",
       "2017-06-06     LT     EQ     1804.90      1807.7     1808.05    1772.15   \n",
       "2017-06-07     LT     EQ     1775.15      1774.0     1794.50    1773.00   \n",
       "\n",
       "            Last Price  Close Price  Average Price  Total Traded Quantity  \\\n",
       "Date                                                                        \n",
       "2017-06-01     1792.10      1792.80        1772.42                1932123   \n",
       "2017-06-02     1784.85      1784.00        1787.39                 950214   \n",
       "2017-06-05     1804.35      1804.90        1802.25                1270946   \n",
       "2017-06-06     1773.00      1775.15        1783.32                 954046   \n",
       "2017-06-07     1786.30      1788.60        1784.63                 885027   \n",
       "\n",
       "                Turnover  No. of Trades  Deliverable Qty  \\\n",
       "Date                                                       \n",
       "2017-06-01  3.424526e+09          72013           957738   \n",
       "2017-06-02  1.698405e+09          45529           436632   \n",
       "2017-06-05  2.290566e+09          62246           690909   \n",
       "2017-06-06  1.701372e+09          50045           494546   \n",
       "2017-06-07  1.579445e+09          53026           466130   \n",
       "\n",
       "            % Dly Qt to Traded Qty        lower          avg        upper  \n",
       "Date                                                                       \n",
       "2017-06-01                   49.57  1693.461335  1751.625000  1809.788665  \n",
       "2017-06-02                   45.95  1694.253263  1754.596429  1814.939594  \n",
       "2017-06-05                   54.36  1693.837723  1759.182143  1824.526563  \n",
       "2017-06-06                   51.84  1694.744536  1760.589286  1826.434035  \n",
       "2017-06-07                   52.67  1701.764977  1765.303571  1828.842166  "
      ]
     },
     "execution_count": 36,
     "metadata": {},
     "output_type": "execute_result"
    }
   ],
   "source": [
    "another_data['lower'] = rolling_avg-2*rolling_std\n",
    "another_data['avg'] = rolling_avg\n",
    "another_data['upper'] = rolling_avg+2*rolling_std\n",
    "another_data.dropna(inplace=True)\n",
    "another_data.head()"
   ]
  },
  {
   "cell_type": "markdown",
   "metadata": {},
   "source": [
    "<h4>4.1c.2 Adding Column \"Call\""
   ]
  },
  {
   "cell_type": "code",
   "execution_count": 37,
   "metadata": {},
   "outputs": [],
   "source": [
    "another_data[\"Call\"] = another_data.apply(lambda record : classifying_call(record['Close Price'], record['lower'], record['avg'], record['upper']), axis = 1) "
   ]
  },
  {
   "cell_type": "code",
   "execution_count": 38,
   "metadata": {},
   "outputs": [
    {
     "data": {
      "text/plain": [
       "array(['Hold Short/Liquidate Buy', 'Hold Buy/Liquidate Short', 'Buy',\n",
       "       'Short'], dtype=object)"
      ]
     },
     "execution_count": 38,
     "metadata": {},
     "output_type": "execute_result"
    }
   ],
   "source": [
    "another_data.Call.unique()"
   ]
  },
  {
   "cell_type": "code",
   "execution_count": 39,
   "metadata": {},
   "outputs": [
    {
     "data": {
      "text/plain": [
       "Hold Buy/Liquidate Short    225\n",
       "Hold Short/Liquidate Buy    206\n",
       "Buy                          26\n",
       "Short                        24\n",
       "Name: Call, dtype: int64"
      ]
     },
     "execution_count": 39,
     "metadata": {},
     "output_type": "execute_result"
    }
   ],
   "source": [
    "another_data.Call.value_counts()"
   ]
  },
  {
   "cell_type": "markdown",
   "metadata": {},
   "source": [
    "<h4>4.1c.3 Predicting Calls"
   ]
  },
  {
   "cell_type": "code",
   "execution_count": 40,
   "metadata": {},
   "outputs": [
    {
     "data": {
      "text/html": [
       "<div>\n",
       "<style scoped>\n",
       "    .dataframe tbody tr th:only-of-type {\n",
       "        vertical-align: middle;\n",
       "    }\n",
       "\n",
       "    .dataframe tbody tr th {\n",
       "        vertical-align: top;\n",
       "    }\n",
       "\n",
       "    .dataframe thead th {\n",
       "        text-align: right;\n",
       "    }\n",
       "</style>\n",
       "<table border=\"1\" class=\"dataframe\">\n",
       "  <thead>\n",
       "    <tr style=\"text-align: right;\">\n",
       "      <th></th>\n",
       "      <th>lower</th>\n",
       "      <th>avg</th>\n",
       "      <th>upper</th>\n",
       "      <th>Close Price</th>\n",
       "    </tr>\n",
       "    <tr>\n",
       "      <th>Date</th>\n",
       "      <th></th>\n",
       "      <th></th>\n",
       "      <th></th>\n",
       "      <th></th>\n",
       "    </tr>\n",
       "  </thead>\n",
       "  <tbody>\n",
       "    <tr>\n",
       "      <th>2019-05-07</th>\n",
       "      <td>1343.064459</td>\n",
       "      <td>1359.460714</td>\n",
       "      <td>1375.856970</td>\n",
       "      <td>1366.60</td>\n",
       "    </tr>\n",
       "    <tr>\n",
       "      <th>2019-05-08</th>\n",
       "      <td>1343.037397</td>\n",
       "      <td>1359.421429</td>\n",
       "      <td>1375.805460</td>\n",
       "      <td>1360.35</td>\n",
       "    </tr>\n",
       "    <tr>\n",
       "      <th>2019-05-09</th>\n",
       "      <td>1342.982196</td>\n",
       "      <td>1359.389286</td>\n",
       "      <td>1375.796375</td>\n",
       "      <td>1356.45</td>\n",
       "    </tr>\n",
       "    <tr>\n",
       "      <th>2019-05-10</th>\n",
       "      <td>1347.049497</td>\n",
       "      <td>1357.539286</td>\n",
       "      <td>1368.029074</td>\n",
       "      <td>1355.50</td>\n",
       "    </tr>\n",
       "    <tr>\n",
       "      <th>2019-05-13</th>\n",
       "      <td>1330.888535</td>\n",
       "      <td>1354.464286</td>\n",
       "      <td>1378.040037</td>\n",
       "      <td>1317.65</td>\n",
       "    </tr>\n",
       "  </tbody>\n",
       "</table>\n",
       "</div>"
      ],
      "text/plain": [
       "                  lower          avg        upper  Close Price\n",
       "Date                                                          \n",
       "2019-05-07  1343.064459  1359.460714  1375.856970      1366.60\n",
       "2019-05-08  1343.037397  1359.421429  1375.805460      1360.35\n",
       "2019-05-09  1342.982196  1359.389286  1375.796375      1356.45\n",
       "2019-05-10  1347.049497  1357.539286  1368.029074      1355.50\n",
       "2019-05-13  1330.888535  1354.464286  1378.040037      1317.65"
      ]
     },
     "execution_count": 40,
     "metadata": {},
     "output_type": "execute_result"
    }
   ],
   "source": [
    "Input = another_data[['lower','avg','upper','Close Price']]\n",
    "Input.tail()"
   ]
  },
  {
   "cell_type": "code",
   "execution_count": 41,
   "metadata": {},
   "outputs": [
    {
     "data": {
      "text/html": [
       "<div>\n",
       "<style scoped>\n",
       "    .dataframe tbody tr th:only-of-type {\n",
       "        vertical-align: middle;\n",
       "    }\n",
       "\n",
       "    .dataframe tbody tr th {\n",
       "        vertical-align: top;\n",
       "    }\n",
       "\n",
       "    .dataframe thead th {\n",
       "        text-align: right;\n",
       "    }\n",
       "</style>\n",
       "<table border=\"1\" class=\"dataframe\">\n",
       "  <thead>\n",
       "    <tr style=\"text-align: right;\">\n",
       "      <th></th>\n",
       "      <th>0</th>\n",
       "    </tr>\n",
       "  </thead>\n",
       "  <tbody>\n",
       "    <tr>\n",
       "      <th>476</th>\n",
       "      <td>2</td>\n",
       "    </tr>\n",
       "    <tr>\n",
       "      <th>477</th>\n",
       "      <td>2</td>\n",
       "    </tr>\n",
       "    <tr>\n",
       "      <th>478</th>\n",
       "      <td>1</td>\n",
       "    </tr>\n",
       "    <tr>\n",
       "      <th>479</th>\n",
       "      <td>1</td>\n",
       "    </tr>\n",
       "    <tr>\n",
       "      <th>480</th>\n",
       "      <td>0</td>\n",
       "    </tr>\n",
       "  </tbody>\n",
       "</table>\n",
       "</div>"
      ],
      "text/plain": [
       "     0\n",
       "476  2\n",
       "477  2\n",
       "478  1\n",
       "479  1\n",
       "480  0"
      ]
     },
     "execution_count": 41,
     "metadata": {},
     "output_type": "execute_result"
    }
   ],
   "source": [
    "label_encoder = preprocessing.LabelEncoder()\n",
    "numbered_label = label_encoder.fit_transform(another_data.Call.ravel())\n",
    "Output = pd.DataFrame(numbered_label)\n",
    "Output.tail()"
   ]
  },
  {
   "cell_type": "markdown",
   "metadata": {},
   "source": [
    "<h4>4.1c.4 Predicted Calls using already defined Logistic Regression model"
   ]
  },
  {
   "cell_type": "code",
   "execution_count": 42,
   "metadata": {},
   "outputs": [],
   "source": [
    "output_pred = lr.predict(Input)"
   ]
  },
  {
   "cell_type": "markdown",
   "metadata": {},
   "source": [
    "<h4>4.1c.5 Accuracy of LR model"
   ]
  },
  {
   "cell_type": "code",
   "execution_count": 43,
   "metadata": {},
   "outputs": [
    {
     "data": {
      "text/plain": [
       "0.9833679833679834"
      ]
     },
     "execution_count": 43,
     "metadata": {},
     "output_type": "execute_result"
    }
   ],
   "source": [
    "lr.score(Input, Output)"
   ]
  },
  {
   "cell_type": "markdown",
   "metadata": {},
   "source": [
    "<h4>4.1c.6 Adding Predicted Call in another_data"
   ]
  },
  {
   "cell_type": "code",
   "execution_count": 45,
   "metadata": {},
   "outputs": [
    {
     "name": "stderr",
     "output_type": "stream",
     "text": [
      "C:\\Users\\Aquib\\Anaconda3\\lib\\site-packages\\sklearn\\preprocessing\\label.py:151: DeprecationWarning: The truth value of an empty array is ambiguous. Returning False, but in future this will result in an error. Use `array.size > 0` to check that an array is not empty.\n",
      "  if diff:\n"
     ]
    },
    {
     "data": {
      "text/html": [
       "<div>\n",
       "<style scoped>\n",
       "    .dataframe tbody tr th:only-of-type {\n",
       "        vertical-align: middle;\n",
       "    }\n",
       "\n",
       "    .dataframe tbody tr th {\n",
       "        vertical-align: top;\n",
       "    }\n",
       "\n",
       "    .dataframe thead th {\n",
       "        text-align: right;\n",
       "    }\n",
       "</style>\n",
       "<table border=\"1\" class=\"dataframe\">\n",
       "  <thead>\n",
       "    <tr style=\"text-align: right;\">\n",
       "      <th></th>\n",
       "      <th>Symbol</th>\n",
       "      <th>Series</th>\n",
       "      <th>Prev Close</th>\n",
       "      <th>Open Price</th>\n",
       "      <th>High Price</th>\n",
       "      <th>Low Price</th>\n",
       "      <th>Last Price</th>\n",
       "      <th>Close Price</th>\n",
       "      <th>Average Price</th>\n",
       "      <th>Total Traded Quantity</th>\n",
       "      <th>Turnover</th>\n",
       "      <th>No. of Trades</th>\n",
       "      <th>Deliverable Qty</th>\n",
       "      <th>% Dly Qt to Traded Qty</th>\n",
       "      <th>lower</th>\n",
       "      <th>avg</th>\n",
       "      <th>upper</th>\n",
       "      <th>Call</th>\n",
       "      <th>Predicted Call</th>\n",
       "    </tr>\n",
       "    <tr>\n",
       "      <th>Date</th>\n",
       "      <th></th>\n",
       "      <th></th>\n",
       "      <th></th>\n",
       "      <th></th>\n",
       "      <th></th>\n",
       "      <th></th>\n",
       "      <th></th>\n",
       "      <th></th>\n",
       "      <th></th>\n",
       "      <th></th>\n",
       "      <th></th>\n",
       "      <th></th>\n",
       "      <th></th>\n",
       "      <th></th>\n",
       "      <th></th>\n",
       "      <th></th>\n",
       "      <th></th>\n",
       "      <th></th>\n",
       "      <th></th>\n",
       "    </tr>\n",
       "  </thead>\n",
       "  <tbody>\n",
       "    <tr>\n",
       "      <th>2019-05-07</th>\n",
       "      <td>LT</td>\n",
       "      <td>EQ</td>\n",
       "      <td>1352.70</td>\n",
       "      <td>1357.40</td>\n",
       "      <td>1374.35</td>\n",
       "      <td>1350.0</td>\n",
       "      <td>1368.50</td>\n",
       "      <td>1366.60</td>\n",
       "      <td>1366.49</td>\n",
       "      <td>2596385</td>\n",
       "      <td>3.547930e+09</td>\n",
       "      <td>80814</td>\n",
       "      <td>1727865</td>\n",
       "      <td>66.55</td>\n",
       "      <td>1343.064459</td>\n",
       "      <td>1359.460714</td>\n",
       "      <td>1375.856970</td>\n",
       "      <td>Hold Short/Liquidate Buy</td>\n",
       "      <td>Hold Short/Liquidate Buy</td>\n",
       "    </tr>\n",
       "    <tr>\n",
       "      <th>2019-05-08</th>\n",
       "      <td>LT</td>\n",
       "      <td>EQ</td>\n",
       "      <td>1366.60</td>\n",
       "      <td>1363.90</td>\n",
       "      <td>1371.00</td>\n",
       "      <td>1355.0</td>\n",
       "      <td>1362.00</td>\n",
       "      <td>1360.35</td>\n",
       "      <td>1364.13</td>\n",
       "      <td>1601700</td>\n",
       "      <td>2.184919e+09</td>\n",
       "      <td>77662</td>\n",
       "      <td>910828</td>\n",
       "      <td>56.87</td>\n",
       "      <td>1343.037397</td>\n",
       "      <td>1359.421429</td>\n",
       "      <td>1375.805460</td>\n",
       "      <td>Hold Short/Liquidate Buy</td>\n",
       "      <td>Hold Buy/Liquidate Short</td>\n",
       "    </tr>\n",
       "    <tr>\n",
       "      <th>2019-05-09</th>\n",
       "      <td>LT</td>\n",
       "      <td>EQ</td>\n",
       "      <td>1360.35</td>\n",
       "      <td>1357.00</td>\n",
       "      <td>1368.80</td>\n",
       "      <td>1337.6</td>\n",
       "      <td>1356.00</td>\n",
       "      <td>1356.45</td>\n",
       "      <td>1356.59</td>\n",
       "      <td>2464425</td>\n",
       "      <td>3.343208e+09</td>\n",
       "      <td>97052</td>\n",
       "      <td>1560086</td>\n",
       "      <td>63.30</td>\n",
       "      <td>1342.982196</td>\n",
       "      <td>1359.389286</td>\n",
       "      <td>1375.796375</td>\n",
       "      <td>Hold Buy/Liquidate Short</td>\n",
       "      <td>Hold Buy/Liquidate Short</td>\n",
       "    </tr>\n",
       "    <tr>\n",
       "      <th>2019-05-10</th>\n",
       "      <td>LT</td>\n",
       "      <td>EQ</td>\n",
       "      <td>1356.45</td>\n",
       "      <td>1359.65</td>\n",
       "      <td>1362.50</td>\n",
       "      <td>1345.1</td>\n",
       "      <td>1356.65</td>\n",
       "      <td>1355.50</td>\n",
       "      <td>1354.49</td>\n",
       "      <td>1466154</td>\n",
       "      <td>1.985897e+09</td>\n",
       "      <td>69058</td>\n",
       "      <td>716794</td>\n",
       "      <td>48.89</td>\n",
       "      <td>1347.049497</td>\n",
       "      <td>1357.539286</td>\n",
       "      <td>1368.029074</td>\n",
       "      <td>Hold Buy/Liquidate Short</td>\n",
       "      <td>Hold Buy/Liquidate Short</td>\n",
       "    </tr>\n",
       "    <tr>\n",
       "      <th>2019-05-13</th>\n",
       "      <td>LT</td>\n",
       "      <td>EQ</td>\n",
       "      <td>1355.50</td>\n",
       "      <td>1345.00</td>\n",
       "      <td>1355.00</td>\n",
       "      <td>1312.0</td>\n",
       "      <td>1318.20</td>\n",
       "      <td>1317.65</td>\n",
       "      <td>1326.93</td>\n",
       "      <td>3422913</td>\n",
       "      <td>4.541968e+09</td>\n",
       "      <td>126334</td>\n",
       "      <td>1686523</td>\n",
       "      <td>49.27</td>\n",
       "      <td>1330.888535</td>\n",
       "      <td>1354.464286</td>\n",
       "      <td>1378.040037</td>\n",
       "      <td>Buy</td>\n",
       "      <td>Buy</td>\n",
       "    </tr>\n",
       "  </tbody>\n",
       "</table>\n",
       "</div>"
      ],
      "text/plain": [
       "           Symbol Series  Prev Close  Open Price  High Price  Low Price  \\\n",
       "Date                                                                      \n",
       "2019-05-07     LT     EQ     1352.70     1357.40     1374.35     1350.0   \n",
       "2019-05-08     LT     EQ     1366.60     1363.90     1371.00     1355.0   \n",
       "2019-05-09     LT     EQ     1360.35     1357.00     1368.80     1337.6   \n",
       "2019-05-10     LT     EQ     1356.45     1359.65     1362.50     1345.1   \n",
       "2019-05-13     LT     EQ     1355.50     1345.00     1355.00     1312.0   \n",
       "\n",
       "            Last Price  Close Price  Average Price  Total Traded Quantity  \\\n",
       "Date                                                                        \n",
       "2019-05-07     1368.50      1366.60        1366.49                2596385   \n",
       "2019-05-08     1362.00      1360.35        1364.13                1601700   \n",
       "2019-05-09     1356.00      1356.45        1356.59                2464425   \n",
       "2019-05-10     1356.65      1355.50        1354.49                1466154   \n",
       "2019-05-13     1318.20      1317.65        1326.93                3422913   \n",
       "\n",
       "                Turnover  No. of Trades  Deliverable Qty  \\\n",
       "Date                                                       \n",
       "2019-05-07  3.547930e+09          80814          1727865   \n",
       "2019-05-08  2.184919e+09          77662           910828   \n",
       "2019-05-09  3.343208e+09          97052          1560086   \n",
       "2019-05-10  1.985897e+09          69058           716794   \n",
       "2019-05-13  4.541968e+09         126334          1686523   \n",
       "\n",
       "            % Dly Qt to Traded Qty        lower          avg        upper  \\\n",
       "Date                                                                        \n",
       "2019-05-07                   66.55  1343.064459  1359.460714  1375.856970   \n",
       "2019-05-08                   56.87  1343.037397  1359.421429  1375.805460   \n",
       "2019-05-09                   63.30  1342.982196  1359.389286  1375.796375   \n",
       "2019-05-10                   48.89  1347.049497  1357.539286  1368.029074   \n",
       "2019-05-13                   49.27  1330.888535  1354.464286  1378.040037   \n",
       "\n",
       "                                Call            Predicted Call  \n",
       "Date                                                            \n",
       "2019-05-07  Hold Short/Liquidate Buy  Hold Short/Liquidate Buy  \n",
       "2019-05-08  Hold Short/Liquidate Buy  Hold Buy/Liquidate Short  \n",
       "2019-05-09  Hold Buy/Liquidate Short  Hold Buy/Liquidate Short  \n",
       "2019-05-10  Hold Buy/Liquidate Short  Hold Buy/Liquidate Short  \n",
       "2019-05-13                       Buy                       Buy  "
      ]
     },
     "execution_count": 45,
     "metadata": {},
     "output_type": "execute_result"
    }
   ],
   "source": [
    "another_data[\"Predicted Call\"] = label_encoder.inverse_transform(output_pred)\n",
    "another_data.tail()"
   ]
  },
  {
   "cell_type": "markdown",
   "metadata": {},
   "source": [
    "<h2>Query 4.2"
   ]
  },
  {
   "cell_type": "code",
   "execution_count": 46,
   "metadata": {},
   "outputs": [
    {
     "data": {
      "text/html": [
       "<div>\n",
       "<style scoped>\n",
       "    .dataframe tbody tr th:only-of-type {\n",
       "        vertical-align: middle;\n",
       "    }\n",
       "\n",
       "    .dataframe tbody tr th {\n",
       "        vertical-align: top;\n",
       "    }\n",
       "\n",
       "    .dataframe thead th {\n",
       "        text-align: right;\n",
       "    }\n",
       "</style>\n",
       "<table border=\"1\" class=\"dataframe\">\n",
       "  <thead>\n",
       "    <tr style=\"text-align: right;\">\n",
       "      <th></th>\n",
       "      <th>Symbol</th>\n",
       "      <th>Series</th>\n",
       "      <th>Prev Close</th>\n",
       "      <th>Open Price</th>\n",
       "      <th>High Price</th>\n",
       "      <th>Low Price</th>\n",
       "      <th>Last Price</th>\n",
       "      <th>Close Price</th>\n",
       "      <th>Average Price</th>\n",
       "      <th>Total Traded Quantity</th>\n",
       "      <th>Turnover</th>\n",
       "      <th>No. of Trades</th>\n",
       "      <th>Deliverable Qty</th>\n",
       "      <th>% Dly Qt to Traded Qty</th>\n",
       "    </tr>\n",
       "    <tr>\n",
       "      <th>Date</th>\n",
       "      <th></th>\n",
       "      <th></th>\n",
       "      <th></th>\n",
       "      <th></th>\n",
       "      <th></th>\n",
       "      <th></th>\n",
       "      <th></th>\n",
       "      <th></th>\n",
       "      <th></th>\n",
       "      <th></th>\n",
       "      <th></th>\n",
       "      <th></th>\n",
       "      <th></th>\n",
       "      <th></th>\n",
       "    </tr>\n",
       "  </thead>\n",
       "  <tbody>\n",
       "    <tr>\n",
       "      <th>2017-05-15</th>\n",
       "      <td>LT</td>\n",
       "      <td>EQ</td>\n",
       "      <td>1740.60</td>\n",
       "      <td>1748.60</td>\n",
       "      <td>1751.55</td>\n",
       "      <td>1736.50</td>\n",
       "      <td>1742.00</td>\n",
       "      <td>1742.40</td>\n",
       "      <td>1743.15</td>\n",
       "      <td>797134</td>\n",
       "      <td>1.389521e+09</td>\n",
       "      <td>52614</td>\n",
       "      <td>529359</td>\n",
       "      <td>66.41</td>\n",
       "    </tr>\n",
       "    <tr>\n",
       "      <th>2017-05-16</th>\n",
       "      <td>LT</td>\n",
       "      <td>EQ</td>\n",
       "      <td>1742.40</td>\n",
       "      <td>1747.00</td>\n",
       "      <td>1748.25</td>\n",
       "      <td>1727.55</td>\n",
       "      <td>1740.60</td>\n",
       "      <td>1740.70</td>\n",
       "      <td>1736.62</td>\n",
       "      <td>1102926</td>\n",
       "      <td>1.915365e+09</td>\n",
       "      <td>48756</td>\n",
       "      <td>674148</td>\n",
       "      <td>61.12</td>\n",
       "    </tr>\n",
       "    <tr>\n",
       "      <th>2017-05-17</th>\n",
       "      <td>LT</td>\n",
       "      <td>EQ</td>\n",
       "      <td>1740.70</td>\n",
       "      <td>1743.90</td>\n",
       "      <td>1764.00</td>\n",
       "      <td>1730.50</td>\n",
       "      <td>1754.30</td>\n",
       "      <td>1755.45</td>\n",
       "      <td>1749.36</td>\n",
       "      <td>1668586</td>\n",
       "      <td>2.918955e+09</td>\n",
       "      <td>77513</td>\n",
       "      <td>830692</td>\n",
       "      <td>49.78</td>\n",
       "    </tr>\n",
       "    <tr>\n",
       "      <th>2017-05-18</th>\n",
       "      <td>LT</td>\n",
       "      <td>EQ</td>\n",
       "      <td>1755.45</td>\n",
       "      <td>1739.65</td>\n",
       "      <td>1750.10</td>\n",
       "      <td>1716.40</td>\n",
       "      <td>1722.10</td>\n",
       "      <td>1722.60</td>\n",
       "      <td>1725.53</td>\n",
       "      <td>1437220</td>\n",
       "      <td>2.479968e+09</td>\n",
       "      <td>47602</td>\n",
       "      <td>915874</td>\n",
       "      <td>63.73</td>\n",
       "    </tr>\n",
       "    <tr>\n",
       "      <th>2017-05-19</th>\n",
       "      <td>LT</td>\n",
       "      <td>EQ</td>\n",
       "      <td>1722.60</td>\n",
       "      <td>1729.00</td>\n",
       "      <td>1734.00</td>\n",
       "      <td>1697.55</td>\n",
       "      <td>1720.05</td>\n",
       "      <td>1724.55</td>\n",
       "      <td>1718.73</td>\n",
       "      <td>1512094</td>\n",
       "      <td>2.598885e+09</td>\n",
       "      <td>59280</td>\n",
       "      <td>838396</td>\n",
       "      <td>55.45</td>\n",
       "    </tr>\n",
       "  </tbody>\n",
       "</table>\n",
       "</div>"
      ],
      "text/plain": [
       "           Symbol Series  Prev Close  Open Price  High Price  Low Price  \\\n",
       "Date                                                                      \n",
       "2017-05-15     LT     EQ     1740.60     1748.60     1751.55    1736.50   \n",
       "2017-05-16     LT     EQ     1742.40     1747.00     1748.25    1727.55   \n",
       "2017-05-17     LT     EQ     1740.70     1743.90     1764.00    1730.50   \n",
       "2017-05-18     LT     EQ     1755.45     1739.65     1750.10    1716.40   \n",
       "2017-05-19     LT     EQ     1722.60     1729.00     1734.00    1697.55   \n",
       "\n",
       "            Last Price  Close Price  Average Price  Total Traded Quantity  \\\n",
       "Date                                                                        \n",
       "2017-05-15     1742.00      1742.40        1743.15                 797134   \n",
       "2017-05-16     1740.60      1740.70        1736.62                1102926   \n",
       "2017-05-17     1754.30      1755.45        1749.36                1668586   \n",
       "2017-05-18     1722.10      1722.60        1725.53                1437220   \n",
       "2017-05-19     1720.05      1724.55        1718.73                1512094   \n",
       "\n",
       "                Turnover  No. of Trades  Deliverable Qty  \\\n",
       "Date                                                       \n",
       "2017-05-15  1.389521e+09          52614           529359   \n",
       "2017-05-16  1.915365e+09          48756           674148   \n",
       "2017-05-17  2.918955e+09          77513           830692   \n",
       "2017-05-18  2.479968e+09          47602           915874   \n",
       "2017-05-19  2.598885e+09          59280           838396   \n",
       "\n",
       "            % Dly Qt to Traded Qty  \n",
       "Date                                \n",
       "2017-05-15                   66.41  \n",
       "2017-05-16                   61.12  \n",
       "2017-05-17                   49.78  \n",
       "2017-05-18                   63.73  \n",
       "2017-05-19                   55.45  "
      ]
     },
     "execution_count": 46,
     "metadata": {},
     "output_type": "execute_result"
    }
   ],
   "source": [
    "# Importing Stock data of LT \n",
    "stock_data = pd.read_csv(\"./LT.csv\")\n",
    "stock_data.Date = pd.to_datetime(stock_data.Date)\n",
    "stock_data.set_index(\"Date\", inplace=True)\n",
    "stock_data.head()"
   ]
  },
  {
   "cell_type": "code",
   "execution_count": 47,
   "metadata": {},
   "outputs": [
    {
     "data": {
      "text/plain": [
       "(494, 14)"
      ]
     },
     "execution_count": 47,
     "metadata": {},
     "output_type": "execute_result"
    }
   ],
   "source": [
    "stock_data.shape"
   ]
  },
  {
   "cell_type": "markdown",
   "metadata": {},
   "source": [
    "<h4>4.2.1 Adding Column for % change between Open and Close price for the day"
   ]
  },
  {
   "cell_type": "code",
   "execution_count": 48,
   "metadata": {},
   "outputs": [],
   "source": [
    "stock_data['OC_Pct_Change'] = (stock_data['Close Price']-stock_data['Open Price'])/stock_data['Close Price']*100.0"
   ]
  },
  {
   "cell_type": "markdown",
   "metadata": {},
   "source": [
    "<h4>4.2.2 Adding Column for % change between Low and High price for the day"
   ]
  },
  {
   "cell_type": "code",
   "execution_count": 49,
   "metadata": {},
   "outputs": [],
   "source": [
    "stock_data['LH_Pct_Change'] = (stock_data['High Price']-stock_data['Low Price'])/stock_data['High Price']*100.0"
   ]
  },
  {
   "cell_type": "markdown",
   "metadata": {},
   "source": [
    "<h4>4.2.3 Adding Column for 5 day rolling mean of the day to day % change in Close Price"
   ]
  },
  {
   "cell_type": "code",
   "execution_count": 50,
   "metadata": {},
   "outputs": [],
   "source": [
    "stock_data['Mean_rolling'] = stock_data['Close Price'].rolling(window=5).mean() / stock_data.OC_Pct_Change"
   ]
  },
  {
   "cell_type": "markdown",
   "metadata": {},
   "source": [
    "<h4>4.2.4 Adding Column for 5 day rolling std of the day to day % change in Close Price"
   ]
  },
  {
   "cell_type": "code",
   "execution_count": 51,
   "metadata": {},
   "outputs": [],
   "source": [
    "stock_data['Std_rolling'] = stock_data['Close Price'].rolling(window=5).std() / stock_data.OC_Pct_Change"
   ]
  },
  {
   "cell_type": "code",
   "execution_count": 52,
   "metadata": {},
   "outputs": [
    {
     "data": {
      "text/plain": [
       "(494, 18)"
      ]
     },
     "execution_count": 52,
     "metadata": {},
     "output_type": "execute_result"
    }
   ],
   "source": [
    "stock_data.shape"
   ]
  },
  {
   "cell_type": "markdown",
   "metadata": {},
   "source": [
    "<h4>4.2.5 Adding 'Action' Column"
   ]
  },
  {
   "cell_type": "code",
   "execution_count": 53,
   "metadata": {},
   "outputs": [],
   "source": [
    "stock_data['Action'] = (stock_data['Close Price'].shift(-1) > stock_data['Close Price']).replace([True, False],[1,-1])[:-1]"
   ]
  },
  {
   "cell_type": "code",
   "execution_count": 54,
   "metadata": {},
   "outputs": [],
   "source": [
    "stock_data=stock_data.replace([pd.np.inf, -pd.np.inf], pd.np.nan)"
   ]
  },
  {
   "cell_type": "code",
   "execution_count": 55,
   "metadata": {},
   "outputs": [],
   "source": [
    "# Droping NaNs\n",
    "stock_data.dropna(inplace=True)"
   ]
  },
  {
   "cell_type": "code",
   "execution_count": 56,
   "metadata": {},
   "outputs": [
    {
     "data": {
      "text/plain": [
       "(488, 19)"
      ]
     },
     "execution_count": 56,
     "metadata": {},
     "output_type": "execute_result"
    }
   ],
   "source": [
    "stock_data.shape"
   ]
  },
  {
   "cell_type": "markdown",
   "metadata": {},
   "source": [
    "<h4>4.2.6 Traning and Testing Split"
   ]
  },
  {
   "cell_type": "code",
   "execution_count": 57,
   "metadata": {},
   "outputs": [
    {
     "data": {
      "text/html": [
       "<div>\n",
       "<style scoped>\n",
       "    .dataframe tbody tr th:only-of-type {\n",
       "        vertical-align: middle;\n",
       "    }\n",
       "\n",
       "    .dataframe tbody tr th {\n",
       "        vertical-align: top;\n",
       "    }\n",
       "\n",
       "    .dataframe thead th {\n",
       "        text-align: right;\n",
       "    }\n",
       "</style>\n",
       "<table border=\"1\" class=\"dataframe\">\n",
       "  <thead>\n",
       "    <tr style=\"text-align: right;\">\n",
       "      <th></th>\n",
       "      <th>OC_Pct_Change</th>\n",
       "      <th>LH_Pct_Change</th>\n",
       "      <th>Mean_rolling</th>\n",
       "      <th>Std_rolling</th>\n",
       "    </tr>\n",
       "    <tr>\n",
       "      <th>Date</th>\n",
       "      <th></th>\n",
       "      <th></th>\n",
       "      <th></th>\n",
       "      <th></th>\n",
       "    </tr>\n",
       "  </thead>\n",
       "  <tbody>\n",
       "    <tr>\n",
       "      <th>2017-05-19</th>\n",
       "      <td>-0.258038</td>\n",
       "      <td>2.102076</td>\n",
       "      <td>-6732.100645</td>\n",
       "      <td>-52.907173</td>\n",
       "    </tr>\n",
       "    <tr>\n",
       "      <th>2017-05-22</th>\n",
       "      <td>1.081652</td>\n",
       "      <td>1.705514</td>\n",
       "      <td>1607.772373</td>\n",
       "      <td>14.012875</td>\n",
       "    </tr>\n",
       "    <tr>\n",
       "      <th>2017-05-23</th>\n",
       "      <td>-0.818613</td>\n",
       "      <td>2.124766</td>\n",
       "      <td>-2124.399084</td>\n",
       "      <td>-18.517219</td>\n",
       "    </tr>\n",
       "    <tr>\n",
       "      <th>2017-05-24</th>\n",
       "      <td>-3.422482</td>\n",
       "      <td>4.513632</td>\n",
       "      <td>-503.979259</td>\n",
       "      <td>-7.484361</td>\n",
       "    </tr>\n",
       "    <tr>\n",
       "      <th>2017-05-25</th>\n",
       "      <td>4.344631</td>\n",
       "      <td>4.676056</td>\n",
       "      <td>399.138643</td>\n",
       "      <td>7.392993</td>\n",
       "    </tr>\n",
       "  </tbody>\n",
       "</table>\n",
       "</div>"
      ],
      "text/plain": [
       "            OC_Pct_Change  LH_Pct_Change  Mean_rolling  Std_rolling\n",
       "Date                                                               \n",
       "2017-05-19      -0.258038       2.102076  -6732.100645   -52.907173\n",
       "2017-05-22       1.081652       1.705514   1607.772373    14.012875\n",
       "2017-05-23      -0.818613       2.124766  -2124.399084   -18.517219\n",
       "2017-05-24      -3.422482       4.513632   -503.979259    -7.484361\n",
       "2017-05-25       4.344631       4.676056    399.138643     7.392993"
      ]
     },
     "execution_count": 57,
     "metadata": {},
     "output_type": "execute_result"
    }
   ],
   "source": [
    "Input = stock_data[['OC_Pct_Change', 'LH_Pct_Change', 'Mean_rolling', 'Std_rolling']]\n",
    "Input.head()"
   ]
  },
  {
   "cell_type": "code",
   "execution_count": 58,
   "metadata": {},
   "outputs": [],
   "source": [
    "from sklearn.preprocessing import MinMaxScaler\n",
    "Input = MinMaxScaler().fit_transform(Input)"
   ]
  },
  {
   "cell_type": "code",
   "execution_count": 59,
   "metadata": {},
   "outputs": [
    {
     "data": {
      "text/plain": [
       "Date\n",
       "2017-05-19    1.0\n",
       "2017-05-22   -1.0\n",
       "2017-05-23   -1.0\n",
       "2017-05-24    1.0\n",
       "2017-05-25    1.0\n",
       "Name: Action, dtype: float64"
      ]
     },
     "execution_count": 59,
     "metadata": {},
     "output_type": "execute_result"
    }
   ],
   "source": [
    "Output = stock_data.Action\n",
    "Output.head()"
   ]
  },
  {
   "cell_type": "code",
   "execution_count": 60,
   "metadata": {},
   "outputs": [],
   "source": [
    "X_train, X_test,y_train, y_test = train_test_split(Input, Output, test_size=0.2)"
   ]
  },
  {
   "cell_type": "code",
   "execution_count": 61,
   "metadata": {},
   "outputs": [],
   "source": [
    "y_train = y_train.values.ravel()\n",
    "y_test = y_test.values.ravel()"
   ]
  },
  {
   "cell_type": "markdown",
   "metadata": {},
   "source": [
    "<h4>4.2.7 Classification Model : Random Forest"
   ]
  },
  {
   "cell_type": "code",
   "execution_count": 62,
   "metadata": {},
   "outputs": [
    {
     "data": {
      "text/plain": [
       "RandomForestClassifier(bootstrap=True, class_weight='balanced',\n",
       "            criterion='gini', max_depth=10, max_features='auto',\n",
       "            max_leaf_nodes=None, min_impurity_decrease=0.0,\n",
       "            min_impurity_split=None, min_samples_leaf=1,\n",
       "            min_samples_split=2, min_weight_fraction_leaf=0.0,\n",
       "            n_estimators=10, n_jobs=1, oob_score=False, random_state=None,\n",
       "            verbose=0, warm_start=False)"
      ]
     },
     "execution_count": 62,
     "metadata": {},
     "output_type": "execute_result"
    }
   ],
   "source": [
    "rf_classifier = RandomForestClassifier(max_depth = 10, n_estimators =10,class_weight='balanced')\n",
    "rf_classifier.fit(X_train, y_train)"
   ]
  },
  {
   "cell_type": "code",
   "execution_count": 63,
   "metadata": {},
   "outputs": [
    {
     "data": {
      "text/plain": [
       "0.8923076923076924"
      ]
     },
     "execution_count": 63,
     "metadata": {},
     "output_type": "execute_result"
    }
   ],
   "source": [
    "rf_classifier.score(X_train, y_train)"
   ]
  },
  {
   "cell_type": "code",
   "execution_count": 64,
   "metadata": {},
   "outputs": [
    {
     "data": {
      "text/plain": [
       "0.8258196721311475"
      ]
     },
     "execution_count": 64,
     "metadata": {},
     "output_type": "execute_result"
    }
   ],
   "source": [
    "rf_classifier.score(Input, Output)"
   ]
  },
  {
   "cell_type": "code",
   "execution_count": 65,
   "metadata": {},
   "outputs": [
    {
     "data": {
      "image/png": "[encoded data removed]",
      "text/plain": [
       "<Figure size 1440x720 with 1 Axes>"
      ]
     },
     "metadata": {},
     "output_type": "display_data"
    }
   ],
   "source": [
    "stock_data['Net_cum_returns'] = ((stock_data['Open Price']-stock_data['Close Price'])/stock_data['Open Price']*100).cumsum()\n",
    "\n",
    "plt.figure(figsize=(20,10))\n",
    "plt.plot(stock_data.index, stock_data['Net_cum_returns'])\n",
    "plt.ylabel(\"Strategy Returns (%)\")\n",
    "plt.xlabel(\"Date\")\n",
    "plt.show()"
   ]
  },
  {
   "cell_type": "code",
   "execution_count": null,
   "metadata": {},
   "outputs": [],
   "source": []
  }
 ],
 "metadata": {
  "kernelspec": {
   "display_name": "Python 3",
   "language": "python",
   "name": "python3"
  },
  "language_info": {
   "codemirror_mode": {
    "name": "ipython",
    "version": 3
   },
   "file_extension": ".py",
   "mimetype": "text/x-python",
   "name": "python",
   "nbconvert_exporter": "python",
   "pygments_lexer": "ipython3",
   "version": "3.6.5"
  },
  "varInspector": {
   "cols": {
    "lenName": 16,
    "lenType": 16,
    "lenVar": 40
   },
   "kernels_config": {
    "python": {
     "delete_cmd_postfix": "",
     "delete_cmd_prefix": "del ",
     "library": "var_list.py",
     "varRefreshCmd": "print(var_dic_list())"
    },
    "r": {
     "delete_cmd_postfix": ") ",
     "delete_cmd_prefix": "rm(",
     "library": "var_list.r",
     "varRefreshCmd": "cat(var_dic_list()) "
    }
   },
   "types_to_exclude": [
    "module",
    "function",
    "builtin_function_or_method",
    "instance",
    "_Feature"
   ],
   "window_display": false
  }
 },
 "nbformat": 4,
 "nbformat_minor": 2
}
